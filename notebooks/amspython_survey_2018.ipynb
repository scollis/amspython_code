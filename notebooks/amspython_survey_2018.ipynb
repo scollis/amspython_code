{
 "cells": [
  {
   "cell_type": "code",
   "execution_count": 16,
   "metadata": {},
   "outputs": [],
   "source": [
    "import pandas as pd\n",
    "from matplotlib import pyplot as plt\n",
    "import numpy as np\n",
    "%matplotlib inline"
   ]
  },
  {
   "cell_type": "code",
   "execution_count": 17,
   "metadata": {},
   "outputs": [],
   "source": [
    "def bins_labels(bins, **kwargs):\n",
    "    bin_w = (max(bins) - min(bins)) / (len(bins) - 1)\n",
    "    plt.xticks(np.arange(min(bins)+bin_w/2, max(bins), bin_w), bins, **kwargs)\n",
    "    plt.xlim(bins[0], bins[-1])"
   ]
  },
  {
   "cell_type": "code",
   "execution_count": 5,
   "metadata": {},
   "outputs": [],
   "source": [
    "excel_obj = pandas.read_excel('/Users/scollis/unfunded_projects/amspython_code/responses.xlsx')"
   ]
  },
  {
   "cell_type": "code",
   "execution_count": 7,
   "metadata": {},
   "outputs": [
    {
     "data": {
      "text/plain": [
       "Index(['Timestamp', 'Email Address', 'What is your name?', 'Are you a',\n",
       "       'Rank your python skills', 'Do you work in',\n",
       "       'How did you hear about AMS Python 2018?',\n",
       "       'Was the conference the right length',\n",
       "       'Please comment on the quality of the presentations. ',\n",
       "       'Were the short tutorials useful?',\n",
       "       'Did you enjoy the \"Show me your stack\" panel discussion?',\n",
       "       'How do you see the balance in the symposia between traditional talks and special sessions (tutorials/panels).',\n",
       "       'How did you find the technical level of the talks?',\n",
       "       'Anything else you want us to know about AMS Python 2018?',\n",
       "       'Did you find the social media channels useful?',\n",
       "       'Should we pursue a special joint session?',\n",
       "       'If yes, then with which symposia or topic area? ',\n",
       "       'Should we have lightning talks. 5 minute rapid fire round with sign up on-site (no abstracts)? ',\n",
       "       'Do you think our core science keynote should be more on Python and Python tools or more on the use of Python in the atmospheric sciences?',\n",
       "       'We are going to change the topical areas we solicit submission under (there are too many). What are some (up to three) topical areas you would like to see us solicit on?',\n",
       "       'Would you like us to contact you on your supplied email when abstract submissions are open?',\n",
       "       'Would you like to us to contact you about volunteering to be a session chair? (if we get enough responses we may have two session chairs per session). ',\n",
       "       'Would you like to put your name forward to serve on the program committee. We often have folks cycle off the committee. If yes we will contact you about putting together a brief application. We are looking for all levels of experience from people who are willing to put the time in.'],\n",
       "      dtype='object')"
      ]
     },
     "execution_count": 7,
     "metadata": {},
     "output_type": "execute_result"
    }
   ],
   "source": [
    "excel_obj.keys()"
   ]
  },
  {
   "cell_type": "code",
   "execution_count": 79,
   "metadata": {},
   "outputs": [
    {
     "data": {
      "text/plain": [
       "(1, 6)"
      ]
     },
     "execution_count": 79,
     "metadata": {},
     "output_type": "execute_result"
    },
    {
     "data": {
      "image/png": "[encoded data removed]",
      "text/plain": [
       "<matplotlib.figure.Figure at 0x11e635438>"
      ]
     },
     "metadata": {},
     "output_type": "display_data"
    }
   ],
   "source": [
    "technical = excel_obj['How did you find the technical level of the talks?']\n",
    "tech_bins = [1,2,3,4,5]\n",
    "left = 'Too simple. Please advise\\n future presenters to go\\n into more technical detail\\n so we can learn more.'\n",
    "right = 'Could not understand a\\n thing. Please advise future\\n presenters to simplify content.'\n",
    "tech_fig = plt.figure()\n",
    "bb = technical.hist( rwidth=.5)\n",
    "\n",
    "plt.xticks(np.array(tech_bins)+.5, tech_bins)\n",
    "\n",
    "ax = plt.gca()\n",
    "labels = [item.get_text() for item in ax.get_xticklabels()]\n",
    "labels[0] = left\n",
    "labels[-1] = right\n",
    "\n",
    "ax.set_xticklabels(labels)\n",
    "plt.xlim([1,6])\n",
    "\n"
   ]
  },
  {
   "cell_type": "code",
   "execution_count": 135,
   "metadata": {},
   "outputs": [],
   "source": [
    "def slider_plot(dataitem, left, right, bins=None, lims=None):\n",
    "    if bins is None:\n",
    "        bins = [1,2,3,4,5]\n",
    "    if lims is None:\n",
    "        lims = [0.5,5.5]\n",
    "    edges = np.array(bins)-0.5\n",
    "    all_edges = np.append(edges, bins[-1] + .5)\n",
    "    this_fig = plt.figure(figsize = [10,5])\n",
    "    vals, hbins, patches = plt.hist(dataitem.values, bins=all_edges, rwidth=.5)\n",
    "    print(hbins)\n",
    "    print(vals)\n",
    "    plt.xticks(np.array(bins), bins)\n",
    "    ax = plt.gca()\n",
    "    labels = [item.get_text() for item in ax.get_xticklabels()]\n",
    "    labels[0] = left\n",
    "    labels[-1] = right\n",
    "    ax.set_xticklabels(labels)\n",
    "    plt.xlim(lims)\n",
    "    return this_fig, ax"
   ]
  },
  {
   "cell_type": "code",
   "execution_count": 136,
   "metadata": {},
   "outputs": [
    {
     "name": "stdout",
     "output_type": "stream",
     "text": [
      "[0.5 1.5 2.5 3.5 4.5 5.5]\n",
      "[ 0.  5. 12.  3.  0.]\n"
     ]
    },
    {
     "data": {
      "image/png": "[encoded data removed]",
      "text/plain": [
       "<matplotlib.figure.Figure at 0x11e3eb5f8>"
      ]
     },
     "metadata": {},
     "output_type": "display_data"
    }
   ],
   "source": [
    "technical = excel_obj['How did you find the technical level of the talks?']\n",
    "left = 'Too simple. Please advise\\n future presenters to go\\n into more technical detail\\n so we can learn more.'\n",
    "right = 'Could not understand a\\n thing. Please advise future\\n presenters to simplify content.'\n",
    "\n",
    "tech_fig, tech_ax = slider_plot(technical, left, right)"
   ]
  },
  {
   "cell_type": "code",
   "execution_count": 137,
   "metadata": {},
   "outputs": [
    {
     "name": "stdout",
     "output_type": "stream",
     "text": [
      "[0.5 1.5 2.5 3.5 4.5 5.5]\n",
      "[0. 2. 8. 8. 2.]\n"
     ]
    },
    {
     "data": {
      "image/png": "[encoded data removed]",
      "text/plain": [
       "<matplotlib.figure.Figure at 0x11a3bf518>"
      ]
     },
     "metadata": {},
     "output_type": "display_data"
    }
   ],
   "source": [
    "skills = excel_obj['Rank your python skills']\n",
    "left = 'What is import?'\n",
    "right = 'I dream in PEP8'\n",
    "skills_fig, skills_ax = slider_plot(skills, left, right)"
   ]
  },
  {
   "cell_type": "code",
   "execution_count": 64,
   "metadata": {},
   "outputs": [
    {
     "data": {
      "text/plain": [
       "0     4\n",
       "1     4\n",
       "2     2\n",
       "3     2\n",
       "4     3\n",
       "5     3\n",
       "6     4\n",
       "7     4\n",
       "8     4\n",
       "9     3\n",
       "10    4\n",
       "11    3\n",
       "12    5\n",
       "13    5\n",
       "14    4\n",
       "15    3\n",
       "16    3\n",
       "17    4\n",
       "18    3\n",
       "19    3\n",
       "Name: Rank your python skills, dtype: int64"
      ]
     },
     "execution_count": 64,
     "metadata": {},
     "output_type": "execute_result"
    }
   ],
   "source": [
    "skills"
   ]
  },
  {
   "cell_type": "code",
   "execution_count": 122,
   "metadata": {},
   "outputs": [
    {
     "data": {
      "text/plain": [
       "array([4, 4, 2, 2, 3, 3, 4, 4, 4, 3, 4, 3, 5, 5, 4, 3, 3, 4, 3, 3])"
      ]
     },
     "execution_count": 122,
     "metadata": {},
     "output_type": "execute_result"
    }
   ],
   "source": [
    "skills.values"
   ]
  },
  {
   "cell_type": "code",
   "execution_count": 81,
   "metadata": {},
   "outputs": [],
   "source": [
    "technical.hist?\n"
   ]
  },
  {
   "cell_type": "code",
   "execution_count": 82,
   "metadata": {},
   "outputs": [],
   "source": [
    "plt.hist?"
   ]
  },
  {
   "cell_type": "code",
   "execution_count": 96,
   "metadata": {},
   "outputs": [
    {
     "data": {
      "text/plain": [
       "array([3, 4, 3, 4, 2, 3, 2, 3, 2, 3, 3, 3, 3, 3, 3, 2, 3, 3, 4, 2])"
      ]
     },
     "execution_count": 96,
     "metadata": {},
     "output_type": "execute_result"
    }
   ],
   "source": [
    "technical.values"
   ]
  },
  {
   "cell_type": "code",
   "execution_count": 124,
   "metadata": {},
   "outputs": [
    {
     "name": "stdout",
     "output_type": "stream",
     "text": [
      "None\n"
     ]
    }
   ],
   "source": [
    "print([1,2,3].append(4))"
   ]
  },
  {
   "cell_type": "code",
   "execution_count": null,
   "metadata": {},
   "outputs": [],
   "source": []
  }
 ],
 "metadata": {
  "kernelspec": {
   "display_name": "Python 3",
   "language": "python",
   "name": "python3"
  },
  "language_info": {
   "codemirror_mode": {
    "name": "ipython",
    "version": 3
   },
   "file_extension": ".py",
   "mimetype": "text/x-python",
   "name": "python",
   "nbconvert_exporter": "python",
   "pygments_lexer": "ipython3",
   "version": "3.6.4"
  }
 },
 "nbformat": 4,
 "nbformat_minor": 2
}
